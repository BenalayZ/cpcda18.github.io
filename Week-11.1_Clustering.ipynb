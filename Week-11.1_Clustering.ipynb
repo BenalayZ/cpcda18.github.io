{
 "cells": [
  {
   "cell_type": "markdown",
   "metadata": {},
   "source": [
    "# *Unsupervised learning: k-means clustering*\n",
    "\n",
    "[http://scikit-learn.org/stable/modules/generated/sklearn.cluster.KMeans.html](http://scikit-learn.org/stable/modules/generated/sklearn.cluster.KMeans.html)"
   ]
  },
  {
   "cell_type": "code",
   "execution_count": 1,
   "metadata": {},
   "outputs": [],
   "source": [
    "## Importing basic packages\n",
    "\n",
    "import os\n",
    "import random\n",
    "import numpy as np"
   ]
  },
  {
   "cell_type": "code",
   "execution_count": 2,
   "metadata": {},
   "outputs": [],
   "source": [
    "%%capture\n",
    "## Downloading several hundred New York Times articles as text files\n",
    "\n",
    "os.chdir('/sharedfolder/')\n",
    "\n",
    "!wget -N https://github.com/pcda17/pcda17.github.io/raw/master/week/10/nyt_articles_11-9-2017.zip\n",
    "!unzip -o nyt_articles_11-9-2017.zip"
   ]
  },
  {
   "cell_type": "code",
   "execution_count": 3,
   "metadata": {},
   "outputs": [
    {
     "name": "stdout",
     "output_type": "stream",
     "text": [
      "451\n"
     ]
    },
    {
     "data": {
      "text/plain": [
       "\"The case of Mr. Kelley shows one of the system’s biggest problems: a simple failure to forward records. At the Pentagon this week, the military services were scrambling to examine whether they had been reporting the convictions of military personnel of crimes like assault to the Federal Bureau of Investigation, which maintains the three databases that make up the system.  Defense Secretary Jim Mattis asked the Pentagon’s inspector general’s office to investigate the Air Force’s failure to report Mr. Kelley’s conviction. Mr. Mattis, traveling in Helsinki, Finland, said that the inspector general needed to “define what the problem is.”  The problem dates back decades. In 1996, the inspector general found that the Army, Navy and Air Force were failing to report the vast majority of convictions to the F.B.I.  Federal agencies, unlike state and local ones, are required by law to report criminal records to the F.B.I. But in 2014, the inspector general found that the Defense Department still was not doing so.  In fact, according to a portion of a report unearthed by Everytown for Gun Safety, a gun control group, the Air Force Office of Special Investigations did not submit any information to the military’s central reporting system between August 2012 and January 2013, a period that includes the dates of Mr. Kelley’s sentencing and court-martial order.  The report said the lapse came from staff turnover and administrators’ departing before replacements had been trained.  When the inspector general pointed out the problem, it was “immediately corrected,” the report says, but it does not say whether the missing records were entered.  Advertisement Continue reading the main story  In 2015, the inspector general found that the armed forces (the study excluded the Army) were still failing to report 30 percent of convictions. In February, the office announced another compliance review.  Photo  Bruce Anderson, a spokesman for the inspector general, said Tuesday that the office had also begun an investigation into the failure in the Kelley case, as well as a broader review of “the policies, practices and procedures to determine whether appropriate qualifying information is submitted.”  The Air Force assigned the failure to the small, remote base where Mr. Kelley had been court-martialed. “Initial information indicates that Kelley’s domestic violence offense was not entered into the National Criminal Information Center database by the Holloman Air Force Base Office of Special Investigation,” it said in a statement.  The fact that the service branches do not have a dedicated office that handles such notifications is a reflection of how little importance the military places on it, said Don Christensen, who was the chief prosecutor in the Air Force and is now president of Protect Our Defenders, a group that favors greater protections for victims of sexual assault and domestic violence in the military.  Newsletter Sign Up Continue reading the main story Please verify you're not a robot by clicking the box. Invalid email address. Please re-enter. You must select a newsletter to subscribe to. Sign Up You agree to receive occasional updates and special offers for The New York Times's products and services. Thank you for subscribing. An error has occurred. Please try again later. View all New York Times newsletters.  The Office of Special Investigation’s responsibilities are far broader than those of law enforcement on base, Mr. Christensen said: “They have counterintelligence responsibilities, and they’re not full-time criminal investigators. They rotate people in and out constantly.”  Senator Kirsten Gillibrand, Democrat of New York, called upon the Pentagon to review every case in the past 10 years that would have required F.B.I. notification. “We do know that domestic violence is rampant in the military,” she said. “We do know that the military has a serious problem with domestic violence and victims are not getting justice.”  Representative Mac Thornberry, Republican of Texas and chairman of the House Armed Services Committee, called the failure to forward Mr. Kelley’s records “appalling,” adding that it “may be a systemic issue.”  The military’s 51-page domestic abuse policy encourages cooperation with other law enforcement agencies but makes no mention of reporting convictions to the F.B.I.  Pentagon and Air Force officials did not respond to questions on Tuesday about the frequency of domestic violence convictions in the military or how many of those convictions, or restraining orders that would also prevent gun purchases, had been sent to the federal background check system. While state reporting is voluntary, federal agencies are required by law to report.  Advertisement Continue reading the main story  Of the three databases used for federal background checks, only one, the NICS Indices, is dedicated to criteria that would prohibit a gun purchase. The National Crime Information Center includes a host of different kinds of records including stolen boats, the National Sex Offender Registry, protective orders, wanted persons and suspected terrorists. The Interstate Identification Index contains criminal histories. Together, they contain many thousands of records, such as misdemeanor convictions, that would not disqualify someone from buying a gun.  The Indices, however, contains only records that clearly prohibit gun purchases. It is possible to see what kinds of cases the Defense Department reported to the Indices: Almost all were dishonorable discharges, and only one was a misdemeanor domestic violence conviction. But such cases might have been reported to one of the other databases, which do not disclose the sources of their information.  Even then, domestic violence cases can be among the murkiest. The Lautenberg Amendment to the federal Gun Control Act prohibits people with misdemeanor domestic violence convictions from buying guns, but only if the offense involved physical force against a current or former spouse, a child, or a person with whom the offender shares a child. It does not include violence against a boyfriend or girlfriend, or nonviolent offenses like stalking.  So, a domestic violence case involving an assault on a girlfriend would not prohibit gun ownership, while the same charge involving an assault on a wife would. States do not have to tell the federal database whether a case qualifies under the Lautenberg Amendment, and according to a 2015 report, only 22 states voluntarily participated in a program that asked them to do so.  Under the military code, there is no such charge as domestic violence. Mr. Kelley was charged with assault. But the paperwork flagged the case at the top, in bold, as one that would prohibit gun ownership, said Jonas Oransky, a deputy legal director of Everytown for Gun Safety, calling the label “great court practice.”  It just never made it into the database.\""
      ]
     },
     "execution_count": 3,
     "metadata": {},
     "output_type": "execute_result"
    }
   ],
   "source": [
    "## Loading all text files in the current directory as a list of strings\n",
    "\n",
    "os.chdir('/sharedfolder/nyt_articles_11-9-2017/')\n",
    "\n",
    "document_list = []\n",
    "\n",
    "for filename in [item for item in os.listdir('./') if '.txt' in item]: # Excluding files other than .txt with a list comprehension\n",
    "    text_data = open(filename).read()\n",
    "    document_list.append(text_data)\n",
    "\n",
    "print(len(document_list)) # Printing number of documents in list\n",
    "\n",
    "random.choice(document_list) # Viewing a single document chosen at random"
   ]
  },
  {
   "cell_type": "code",
   "execution_count": 4,
   "metadata": {},
   "outputs": [
    {
     "data": {
      "text/plain": [
       "['i', 'me', 'my', 'myself', 'we', 'our', 'ours', 'ourselves', 'you', 'your']"
      ]
     },
     "execution_count": 4,
     "metadata": {},
     "output_type": "execute_result"
    }
   ],
   "source": [
    "## Creating stop word list\n",
    "\n",
    "from nltk.corpus import stopwords\n",
    "import string\n",
    "\n",
    "stop_words = stopwords.words('english') + [\"'s\", \"'re\", '”', '“', '’', '—'] + list(string.punctuation)\n",
    "\n",
    "stop_words[:10]     ## Viewing first 10 stop words"
   ]
  },
  {
   "cell_type": "code",
   "execution_count": 5,
   "metadata": {},
   "outputs": [],
   "source": [
    "## Tokenizing, stemming, and removing stop words from our list of documents\n",
    "\n",
    "from nltk.tokenize import word_tokenize\n",
    "from nltk.stem.porter import PorterStemmer\n",
    "\n",
    "stemmer = PorterStemmer()\n",
    "\n",
    "documents_filtered = []\n",
    "\n",
    "for document in document_list:\n",
    "    token_list = word_tokenize(document.lower())                                 ## Tokenizing\n",
    "    tokens_filtered = [item for item in token_list if (item not in stop_words)]  ## Removing stop words\n",
    "    tokens_filtered = [stemmer.stem(item) for item in tokens_filtered]           ## Stemming\n",
    "    documents_filtered.append(' '.join(tokens_filtered))"
   ]
  },
  {
   "cell_type": "code",
   "execution_count": 6,
   "metadata": {},
   "outputs": [
    {
     "data": {
      "text/plain": [
       "'friday 1 2 p.m. latin rhythm el barrio stretch north east 96th street harlem river heart commerci strip east 116th street la marqueta revit histor market railroad track park avenu first avenu casa latina music shop beckon latin rhythm blare loudspeak neighborhood 50 year store own coupl vicent cristina barreiro spanish argentin surviv gentrif music download eclect mix sound salsa reggaeton vintag ballad also sell collect book percuss instrument like bongo cowbel 2 2:30 p.m. mural comfort food far away 168 east 116th street cuchifrito entic aroma puerto rican fritter like alcapurria green banana dough fill ground beef 1.50 caribbean comfort food includ pork shoulder rice pigeon pea 8 seat limit counter stool pick snack sidewalk window keep walk munch along 116th street first second avenu mosaic portrait puerto rican educ presidenti medal freedom recipi antonia pantoja founder educ youth organ aspira frame entranc senior center corsi hous public-h project piec sampl multimedia artist manni vega artwork good start walk tour street art throughout neighborhood includ 1970s-era four-stori mural spirit east harlem residenti build 104th street lexington avenu mr. vega hank pruss depict domino game progress kid play basketbal neighborhood scene portrait 3 5 p.m. peac parti wooden fish pier end dyckman street inwood neighborhood northern tip manhattan larg dominican popul urban refug stun view hudson river georg washington bridg sunset new jersey boister latin parti scene await leafi street stroll east past playground auto shop warm enough drink sidewalk tabl restaur serv dominican spanish seafood fare pulsat beat anoth option await 207th street raíc skirt steak marin chimichurri sauc yucca fri goe 25.95 danc meal merengu latin music start 8 p.m. danc tip march place sway hip'"
      ]
     },
     "execution_count": 6,
     "metadata": {},
     "output_type": "execute_result"
    }
   ],
   "source": [
    "## Viewing a preprocessed document\n",
    "\n",
    "random.choice(documents_filtered)"
   ]
  },
  {
   "cell_type": "code",
   "execution_count": 7,
   "metadata": {},
   "outputs": [],
   "source": [
    "## Vectorizing preprocessed documents\n",
    "\n",
    "from sklearn.feature_extraction.text import CountVectorizer\n",
    "\n",
    "vectorizer = CountVectorizer()\n",
    "\n",
    "X = vectorizer.fit_transform(documents_filtered) "
   ]
  },
  {
   "cell_type": "code",
   "execution_count": 8,
   "metadata": {},
   "outputs": [
    {
     "data": {
      "text/plain": [
       "['amort',\n",
       " 'amount',\n",
       " 'amped',\n",
       " 'ampl',\n",
       " 'amplif',\n",
       " 'amplifi',\n",
       " 'ampush',\n",
       " 'amsterdam',\n",
       " 'amtrak',\n",
       " 'amulet',\n",
       " 'amus',\n",
       " 'ana',\n",
       " 'anab',\n",
       " 'anal',\n",
       " 'analog',\n",
       " 'analogu',\n",
       " 'analys',\n",
       " 'analysi',\n",
       " 'analyst',\n",
       " 'analyt']"
      ]
     },
     "execution_count": 8,
     "metadata": {},
     "output_type": "execute_result"
    }
   ],
   "source": [
    "## Creating a vocabulary list corresponding to the vectors we created above\n",
    "\n",
    "vocabulary = vectorizer.get_feature_names()\n",
    "\n",
    "vocabulary[1140:1160]"
   ]
  },
  {
   "cell_type": "code",
   "execution_count": 9,
   "metadata": {},
   "outputs": [
    {
     "data": {
      "text/plain": [
       "array([1, 1, 1, 1, 1, 1, 1, 1, 1, 6, 1, 1, 1, 1, 1, 1, 1, 1, 1, 1], dtype=int32)"
      ]
     },
     "execution_count": 9,
     "metadata": {},
     "output_type": "execute_result"
    }
   ],
   "source": [
    "## Clustering documents\n",
    "\n",
    "from sklearn.cluster import KMeans\n",
    "\n",
    "kmeans_classifier = KMeans(n_clusters=8, init='k-means++', n_init=10, max_iter=500, algorithm='auto')\n",
    "                                   ## ^ docuements to be grouped in 8 clusters \n",
    "\n",
    "cluster_classes = kmeans_classifier.fit_predict(X) \n",
    "\n",
    "cluster_classes[:20]               ## Viewing first 20 cluster assignments"
   ]
  },
  {
   "cell_type": "code",
   "execution_count": 10,
   "metadata": {},
   "outputs": [
    {
     "name": "stdout",
     "output_type": "stream",
     "text": [
      "451\n",
      "451\n",
      "451\n"
     ]
    }
   ],
   "source": [
    "## Our cluster assignments and document lists are the same size, in the same order.\n",
    "\n",
    "print(len(cluster_classes))\n",
    "\n",
    "print(len(documents_filtered))\n",
    "\n",
    "print(len(document_list))"
   ]
  },
  {
   "cell_type": "code",
   "execution_count": 11,
   "metadata": {},
   "outputs": [
    {
     "name": "stdout",
     "output_type": "stream",
     "text": [
      "Cluster assignment:\n",
      "1\n",
      "\n",
      "Document:\n",
      "“The one thing that I never wanted for him was to feel any type of racism where he felt like he was being targeted simply because he’s an African-American male,” Ms. Carr said.  It is unclear who took the video, which appears to have been recorded with a phone, and when. Ms. Carr said her daughter brought it to her attention on Nov. 2.  Ms. Carr asked that her son’s name not be published because he is a minor and “not the type of kid that really likes a lot of attention.” She said he told her that he had been laughing with some friends during a physics lesson, and that the teacher had gotten frustrated.  “I believe that he did like his teacher, and he believed that his teacher liked him,” she said, adding that Mr. Hagan apologized to her son.  Mr. Hagan did not respond to phone calls or an email seeking comment on Wednesday.  Ms. Carr said she contacted the Rockdale County Sheriff’s Department. A spokesman for the department said on Tuesday that a report had been filed, but he would not say whether the department was conducting an investigation of its own, referring the question to the school board.  The Rockdale County school district is investigating the episode, said Cindy Ball, a spokeswoman. “Rockdale County Public Schools expects all employees to conduct themselves professionally and ethically to provide a positive teaching and learning environment for students and staff,” she added in an emailed statement. She confirmed that Mr. Hagan was on paid administrative leave.  Advertisement Continue reading the main story  Ms. Carr is calling for Mr. Hagan to be fired.  “I hate that my son had to be the example,” she said. “But this is about awareness and fairness. We don’t send our kids to school to be threatened. We send them to be educated and protected.”\n"
     ]
    }
   ],
   "source": [
    "## We can view a document and its assigned cluster by accessing the same index in both lists\n",
    "\n",
    "index_num = 130\n",
    "\n",
    "print('Cluster assignment:')\n",
    "print(cluster_classes[index_num])\n",
    "print()\n",
    "print('Document:')\n",
    "print(document_list[index_num])"
   ]
  },
  {
   "cell_type": "code",
   "execution_count": 12,
   "metadata": {},
   "outputs": [],
   "source": [
    "## Write each document to a new text file, with each cluster of documents in its own directory\n",
    "\n",
    "try: os.mkdir('/sharedfolder/nyt_clusters_11-9-2017/')\n",
    "except: pass\n",
    "\n",
    "for i in range(len(documents_filtered)):\n",
    "    \n",
    "    out_dir = '/sharedfolder/nyt_clusters_11-9-2017/Cluster_' + str(cluster_classes[i])  ## Creating a directory pathname that\n",
    "                                                                                         ## includes the assigned cluster number.\n",
    "    try: os.mkdir(out_dir)  ## Creating the out_dir directory if it does not yet exist\n",
    "    except: pass\n",
    "    \n",
    "    os.chdir(out_dir)\n",
    "    \n",
    "    out_filename = 'Document_' + str(i) + '.txt'    ## Creating a filename for the text file\n",
    "    \n",
    "    with open(out_filename, 'w') as file_out:\n",
    "        file_out.write(document_list[i])            ## Writing text from original (non-preprocessed) document list\n"
   ]
  },
  {
   "cell_type": "code",
   "execution_count": 13,
   "metadata": {},
   "outputs": [
    {
     "data": {
      "text/plain": [
       "array([1], dtype=int32)"
      ]
     },
     "execution_count": 13,
     "metadata": {},
     "output_type": "execute_result"
    }
   ],
   "source": [
    "## Classifying a new text into an existing cluster\n",
    "\n",
    "input_vector = vectorizer.transform(['Even the budget office is revising its estimates and has predicted the new numbers would be smaller.'])\n",
    "\n",
    "kmeans_classifier.predict(input_vector)"
   ]
  },
  {
   "cell_type": "code",
   "execution_count": null,
   "metadata": {},
   "outputs": [],
   "source": []
  },
  {
   "cell_type": "markdown",
   "metadata": {},
   "source": [
    "## *Scatter Plots*"
   ]
  },
  {
   "cell_type": "code",
   "execution_count": 14,
   "metadata": {},
   "outputs": [
    {
     "data": {
      "image/png": "[encoded data removed]",
      "text/plain": [
       "<matplotlib.figure.Figure at 0x7f3d8d310d30>"
      ]
     },
     "metadata": {},
     "output_type": "display_data"
    }
   ],
   "source": [
    "## A simple scatter plot example\n",
    "\n",
    "import random\n",
    "import matplotlib.pyplot as plt\n",
    "%matplotlib inline\n",
    "\n",
    "plt.rcParams['figure.figsize'] = (10, 7)  # Setting default plot size\n",
    "\n",
    "x_vals_1 = [1.92, 1.79, 1.96, 1.4, 1.61, 1.23, 1.43, 1.85, 2.07, 2.24, 2.11, 1.78, 2.21, 1.79, 1.33]\n",
    "y_vals_1 = [2.5, 2.11, 2.19, 1.6, 2.83, 2.55, 2.33, 2.09, 2.32, 2.72, 2.05, 2.4, 2.55, 2.83, 1.58]\n",
    "\n",
    "x_vals_2 = [3.63, 3.12, 3.21, 3.15, 3.56, 3.17, 3.05, 3.14, 2.87, 3.65, 2.82, 3.34, 3.7, 2.95, 3.15]\n",
    "y_vals_2 = [3.1, 4.27, 4.03, 3.37, 3.22, 3.89, 3.27, 2.64, 3.09, 4.1, 3.61, 3.74, 3.71, 3.51, 2.9]\n",
    "\n",
    "\n",
    "plt.scatter(x_vals_1, y_vals_1, label='Class 1', c='indigo', alpha=0.5)\n",
    "\n",
    "plt.scatter(x_vals_2, y_vals_2, label='Class 2', c='blue', alpha=0.5)\n",
    "\n",
    "plt.ylim(ymin=0, ymax=5)\n",
    "plt.xlim(xmin=0, xmax=5)\n",
    "\n",
    "plt.legend(loc=4)\n",
    "\n",
    "plt.show()"
   ]
  },
  {
   "cell_type": "code",
   "execution_count": 15,
   "metadata": {},
   "outputs": [
    {
     "name": "stderr",
     "output_type": "stream",
     "text": [
      "/usr/local/lib/python3.5/dist-packages/sklearn/discriminant_analysis.py:442: UserWarning: The priors do not sum to 1. Renormalizing\n",
      "  UserWarning)\n",
      "/usr/local/lib/python3.5/dist-packages/sklearn/discriminant_analysis.py:388: UserWarning: Variables are collinear.\n",
      "  warnings.warn(\"Variables are collinear.\")\n"
     ]
    },
    {
     "data": {
      "image/png": "[encoded data removed]",
      "text/plain": [
       "<matplotlib.figure.Figure at 0x7f3d86d34198>"
      ]
     },
     "metadata": {},
     "output_type": "display_data"
    }
   ],
   "source": [
    "## Projecting all vectors to 2 dimensions using linear discriminant analysis (LDA) and viewing a scatter plot\n",
    "\n",
    "from sklearn.discriminant_analysis import LinearDiscriminantAnalysis as LDA\n",
    "import pandas as pd\n",
    "import matplotlib.pyplot as plt\n",
    "%matplotlib inline\n",
    "\n",
    "plt.rcParams['figure.figsize'] = (10, 7)  # Setting default plot size\n",
    "\n",
    "lda = LDA(n_components=2) #2-dimensional LDA\n",
    "\n",
    "y = cluster_classes\n",
    "\n",
    "lda_transformed = pd.DataFrame(lda.fit_transform(X.toarray(), y))\n",
    "\n",
    "lda_transformed['y'] = y\n",
    "\n",
    "plt.scatter(lda_transformed[lda_transformed['y']==0][0], lda_transformed[lda_transformed['y']==0][1], label='0', c='blue', alpha=0.4)\n",
    "plt.scatter(lda_transformed[lda_transformed['y']==1][0], lda_transformed[lda_transformed['y']==1][1], label='1', c='green', alpha=0.4)\n",
    "plt.scatter(lda_transformed[lda_transformed['y']==2][0], lda_transformed[lda_transformed['y']==2][1], label='2', c='red', alpha=0.4)\n",
    "plt.scatter(lda_transformed[lda_transformed['y']==3][0], lda_transformed[lda_transformed['y']==3][1], label='3', c='violet', alpha=0.4)\n",
    "plt.scatter(lda_transformed[lda_transformed['y']==4][0], lda_transformed[lda_transformed['y']==4][1], label='4', c='orange', alpha=0.4)\n",
    "plt.scatter(lda_transformed[lda_transformed['y']==5][0], lda_transformed[lda_transformed['y']==5][1], label='5', c='magenta', alpha=0.4)\n",
    "plt.scatter(lda_transformed[lda_transformed['y']==6][0], lda_transformed[lda_transformed['y']==6][1], label='6', c='black', alpha=0.4)\n",
    "plt.scatter(lda_transformed[lda_transformed['y']==7][0], lda_transformed[lda_transformed['y']==7][1], label='7', c='indigo', alpha=0.4)\n",
    "\n",
    "plt.legend(loc=2)\n",
    "\n",
    "plt.show()"
   ]
  },
  {
   "cell_type": "code",
   "execution_count": 16,
   "metadata": {},
   "outputs": [
    {
     "data": {
      "image/png": "[encoded data removed]",
      "text/plain": [
       "<matplotlib.figure.Figure at 0x7f3dc4fd3e10>"
      ]
     },
     "metadata": {},
     "output_type": "display_data"
    }
   ],
   "source": [
    "## Projecting all vectors to 2 dimensions using principal component analysis (PCA) and viewing a scatter plot\n",
    "\n",
    "from sklearn.decomposition import PCA\n",
    "import matplotlib.pyplot as plt\n",
    "%matplotlib inline\n",
    "\n",
    "plt.rcParams['figure.figsize'] = (10, 7)  # Setting default plot size\n",
    "\n",
    "pca = PCA(n_components=2) #2-dimensional LDA\n",
    "\n",
    "pca_transformed = pca.fit_transform(X.toarray())\n",
    "\n",
    "plt.scatter([pair[0] for pair in pca_transformed], [pair[1] for pair in pca_transformed], label='0', c='blue', alpha=0.4)\n",
    "\n",
    "plt.legend(loc=2)\n",
    "\n",
    "plt.show()"
   ]
  },
  {
   "cell_type": "code",
   "execution_count": null,
   "metadata": {},
   "outputs": [],
   "source": []
  },
  {
   "cell_type": "code",
   "execution_count": null,
   "metadata": {},
   "outputs": [],
   "source": []
  },
  {
   "cell_type": "code",
   "execution_count": null,
   "metadata": {},
   "outputs": [],
   "source": []
  },
  {
   "cell_type": "code",
   "execution_count": null,
   "metadata": {},
   "outputs": [],
   "source": []
  },
  {
   "cell_type": "markdown",
   "metadata": {},
   "source": [
    "### *Clustering in topic space*"
   ]
  },
  {
   "cell_type": "code",
   "execution_count": 17,
   "metadata": {},
   "outputs": [],
   "source": [
    "%%capture\n",
    "!pip3 install lda"
   ]
  },
  {
   "cell_type": "code",
   "execution_count": 18,
   "metadata": {},
   "outputs": [
    {
     "name": "stderr",
     "output_type": "stream",
     "text": [
      "INFO:lda:n_documents: 451\n",
      "INFO:lda:vocab_size: 18084\n",
      "INFO:lda:n_words: 215533\n",
      "INFO:lda:n_topics: 10\n",
      "INFO:lda:n_iter: 1000\n",
      "INFO:lda:<0> log likelihood: -2458339\n",
      "INFO:lda:<10> log likelihood: -2025238\n",
      "INFO:lda:<20> log likelihood: -1955128\n",
      "INFO:lda:<30> log likelihood: -1929633\n",
      "INFO:lda:<40> log likelihood: -1915600\n",
      "INFO:lda:<50> log likelihood: -1907004\n",
      "INFO:lda:<60> log likelihood: -1900932\n",
      "INFO:lda:<70> log likelihood: -1896147\n",
      "INFO:lda:<80> log likelihood: -1892016\n",
      "INFO:lda:<90> log likelihood: -1889082\n",
      "INFO:lda:<100> log likelihood: -1886673\n",
      "INFO:lda:<110> log likelihood: -1884329\n",
      "INFO:lda:<120> log likelihood: -1882191\n",
      "INFO:lda:<130> log likelihood: -1880183\n",
      "INFO:lda:<140> log likelihood: -1878238\n",
      "INFO:lda:<150> log likelihood: -1876631\n",
      "INFO:lda:<160> log likelihood: -1876320\n",
      "INFO:lda:<170> log likelihood: -1875241\n",
      "INFO:lda:<180> log likelihood: -1874734\n",
      "INFO:lda:<190> log likelihood: -1872742\n",
      "INFO:lda:<200> log likelihood: -1872311\n",
      "INFO:lda:<210> log likelihood: -1870936\n",
      "INFO:lda:<220> log likelihood: -1868933\n",
      "INFO:lda:<230> log likelihood: -1868384\n",
      "INFO:lda:<240> log likelihood: -1867083\n",
      "INFO:lda:<250> log likelihood: -1867026\n",
      "INFO:lda:<260> log likelihood: -1865575\n",
      "INFO:lda:<270> log likelihood: -1864851\n",
      "INFO:lda:<280> log likelihood: -1864261\n",
      "INFO:lda:<290> log likelihood: -1864059\n",
      "INFO:lda:<300> log likelihood: -1863301\n",
      "INFO:lda:<310> log likelihood: -1862130\n",
      "INFO:lda:<320> log likelihood: -1862036\n",
      "INFO:lda:<330> log likelihood: -1861485\n",
      "INFO:lda:<340> log likelihood: -1861532\n",
      "INFO:lda:<350> log likelihood: -1860210\n",
      "INFO:lda:<360> log likelihood: -1859519\n",
      "INFO:lda:<370> log likelihood: -1858839\n",
      "INFO:lda:<380> log likelihood: -1858960\n",
      "INFO:lda:<390> log likelihood: -1858973\n",
      "INFO:lda:<400> log likelihood: -1857689\n",
      "INFO:lda:<410> log likelihood: -1856728\n",
      "INFO:lda:<420> log likelihood: -1857170\n",
      "INFO:lda:<430> log likelihood: -1856660\n",
      "INFO:lda:<440> log likelihood: -1855579\n",
      "INFO:lda:<450> log likelihood: -1854910\n",
      "INFO:lda:<460> log likelihood: -1854166\n",
      "INFO:lda:<470> log likelihood: -1854455\n",
      "INFO:lda:<480> log likelihood: -1854301\n",
      "INFO:lda:<490> log likelihood: -1854531\n",
      "INFO:lda:<500> log likelihood: -1854771\n",
      "INFO:lda:<510> log likelihood: -1854320\n",
      "INFO:lda:<520> log likelihood: -1853977\n",
      "INFO:lda:<530> log likelihood: -1852712\n",
      "INFO:lda:<540> log likelihood: -1853107\n",
      "INFO:lda:<550> log likelihood: -1853490\n",
      "INFO:lda:<560> log likelihood: -1853714\n",
      "INFO:lda:<570> log likelihood: -1852926\n",
      "INFO:lda:<580> log likelihood: -1852043\n",
      "INFO:lda:<590> log likelihood: -1853115\n",
      "INFO:lda:<600> log likelihood: -1852428\n",
      "INFO:lda:<610> log likelihood: -1852269\n",
      "INFO:lda:<620> log likelihood: -1852208\n",
      "INFO:lda:<630> log likelihood: -1851313\n",
      "INFO:lda:<640> log likelihood: -1851930\n",
      "INFO:lda:<650> log likelihood: -1853074\n",
      "INFO:lda:<660> log likelihood: -1852322\n",
      "INFO:lda:<670> log likelihood: -1851574\n",
      "INFO:lda:<680> log likelihood: -1851785\n",
      "INFO:lda:<690> log likelihood: -1851237\n",
      "INFO:lda:<700> log likelihood: -1850161\n",
      "INFO:lda:<710> log likelihood: -1850328\n",
      "INFO:lda:<720> log likelihood: -1850328\n",
      "INFO:lda:<730> log likelihood: -1850359\n",
      "INFO:lda:<740> log likelihood: -1848715\n",
      "INFO:lda:<750> log likelihood: -1849146\n",
      "INFO:lda:<760> log likelihood: -1849061\n",
      "INFO:lda:<770> log likelihood: -1849180\n",
      "INFO:lda:<780> log likelihood: -1848705\n",
      "INFO:lda:<790> log likelihood: -1849757\n",
      "INFO:lda:<800> log likelihood: -1849119\n",
      "INFO:lda:<810> log likelihood: -1848964\n",
      "INFO:lda:<820> log likelihood: -1849126\n",
      "INFO:lda:<830> log likelihood: -1848691\n",
      "INFO:lda:<840> log likelihood: -1848652\n",
      "INFO:lda:<850> log likelihood: -1849558\n",
      "INFO:lda:<860> log likelihood: -1848763\n",
      "INFO:lda:<870> log likelihood: -1848432\n",
      "INFO:lda:<880> log likelihood: -1847414\n",
      "INFO:lda:<890> log likelihood: -1848287\n",
      "INFO:lda:<900> log likelihood: -1847475\n",
      "INFO:lda:<910> log likelihood: -1847584\n",
      "INFO:lda:<920> log likelihood: -1848619\n",
      "INFO:lda:<930> log likelihood: -1847998\n",
      "INFO:lda:<940> log likelihood: -1847367\n",
      "INFO:lda:<950> log likelihood: -1847130\n",
      "INFO:lda:<960> log likelihood: -1847089\n",
      "INFO:lda:<970> log likelihood: -1847105\n",
      "INFO:lda:<980> log likelihood: -1847270\n",
      "INFO:lda:<990> log likelihood: -1847148\n",
      "INFO:lda:<999> log likelihood: -1846604\n"
     ]
    },
    {
     "data": {
      "text/plain": [
       "<lda.lda.LDA at 0x7f3d864b7358>"
      ]
     },
     "execution_count": 18,
     "metadata": {},
     "output_type": "execute_result"
    }
   ],
   "source": [
    "import lda\n",
    "\n",
    "model = lda.LDA(n_topics=10, n_iter=1000, random_state=1)\n",
    "\n",
    "model.fit(X)"
   ]
  },
  {
   "cell_type": "code",
   "execution_count": 19,
   "metadata": {},
   "outputs": [
    {
     "name": "stdout",
     "output_type": "stream",
     "text": [
      "451\n"
     ]
    },
    {
     "data": {
      "text/plain": [
       "array([[  3.94230769e-02,   5.86538462e-02,   9.61538462e-04,\n",
       "          3.95192308e-01,   9.61538462e-04,   1.64423077e-01,\n",
       "          9.61538462e-04,   9.61538462e-04,   3.37500000e-01,\n",
       "          9.61538462e-04],\n",
       "       [  6.92033543e-01,   2.09643606e-04,   1.48846960e-02,\n",
       "          3.37526205e-02,   2.30607966e-03,   7.77777778e-02,\n",
       "          1.67924528e-01,   8.59538784e-03,   2.09643606e-04,\n",
       "          2.30607966e-03]])"
      ]
     },
     "execution_count": 19,
     "metadata": {},
     "output_type": "execute_result"
    }
   ],
   "source": [
    "topic_features = model.doc_topic_\n",
    "\n",
    "print(len(topic_features))\n",
    "\n",
    "topic_features[:2]"
   ]
  },
  {
   "cell_type": "code",
   "execution_count": 20,
   "metadata": {},
   "outputs": [
    {
     "name": "stdout",
     "output_type": "stream",
     "text": [
      "451\n"
     ]
    },
    {
     "data": {
      "text/plain": [
       "array([0, 4, 3, 7, 1, 2, 7, 2, 3, 0, 4, 6, 6, 1, 5, 1, 7, 7, 6, 3], dtype=int32)"
      ]
     },
     "execution_count": 20,
     "metadata": {},
     "output_type": "execute_result"
    }
   ],
   "source": [
    "## Clustering documents using topic vectors (instead of vocabulary vectors, which we used above)\n",
    "\n",
    "from sklearn.cluster import KMeans\n",
    "\n",
    "kmeans_topic_classifier = KMeans(n_clusters=10, init='k-means++', n_init=10, max_iter=500, algorithm='auto')\n",
    "                                         ## ^ docuements to be grouped in 8 clusters \n",
    "\n",
    "topic_cluster_classes = kmeans_classifier.fit_predict(topic_features) \n",
    "\n",
    "print(len(topic_cluster_classes))\n",
    "\n",
    "topic_cluster_classes[:20]               ## Viewing first 20 cluster assignments"
   ]
  },
  {
   "cell_type": "code",
   "execution_count": 21,
   "metadata": {},
   "outputs": [],
   "source": [
    "## Write each document to a new text file, with each cluster of documents in its own directory\n",
    "\n",
    "try: os.mkdir('/sharedfolder/nyt_topic_clusters_11-9-2017/')\n",
    "except: pass\n",
    "\n",
    "for i in range(len(documents_filtered)):\n",
    "    \n",
    "    out_dir = '/sharedfolder/nyt_topic_clusters_11-9-2017/Cluster_' + str(topic_cluster_classes[i])  ## Creating a directory pathname that\n",
    "                                                                                         ## includes the assigned cluster number.\n",
    "    try: os.mkdir(out_dir)  ## Creating the out_dir directory if it does not yet exist\n",
    "    except: pass\n",
    "    \n",
    "    os.chdir(out_dir)\n",
    "    \n",
    "    out_filename = 'Document_' + str(i) + '.txt'    ## Creating a filename for the text file\n",
    "    \n",
    "    with open(out_filename, 'w') as file_out:\n",
    "        file_out.write(document_list[i])            ## Writing text from original (non-preprocessed) document list\n"
   ]
  },
  {
   "cell_type": "code",
   "execution_count": 22,
   "metadata": {},
   "outputs": [
    {
     "name": "stderr",
     "output_type": "stream",
     "text": [
      "/usr/local/lib/python3.5/dist-packages/sklearn/discriminant_analysis.py:388: UserWarning: Variables are collinear.\n",
      "  warnings.warn(\"Variables are collinear.\")\n"
     ]
    },
    {
     "data": {
      "image/png": "[encoded data removed]",
      "text/plain": [
       "<matplotlib.figure.Figure at 0x7f3db09c1940>"
      ]
     },
     "metadata": {},
     "output_type": "display_data"
    }
   ],
   "source": [
    "## Projecting all topic vectors to 2 dimensions using linear discriminant analysis (LDA) and viewing a scatter plot\n",
    "\n",
    "from sklearn.discriminant_analysis import LinearDiscriminantAnalysis as LDA\n",
    "import pandas as pd\n",
    "import matplotlib.pyplot as plt\n",
    "%matplotlib inline\n",
    "\n",
    "plt.rcParams['figure.figsize'] = (10, 7)  # Setting default plot size\n",
    "\n",
    "lda = LDA(n_components=2) #2-dimensional LDA\n",
    "\n",
    "y = topic_cluster_classes\n",
    "\n",
    "lda_transformed = pd.DataFrame(lda.fit_transform(topic_features, y))\n",
    "\n",
    "lda_transformed['y'] = y\n",
    "\n",
    "plt.scatter(lda_transformed[lda_transformed['y']==0][0], lda_transformed[lda_transformed['y']==0][1], label='0', c='blue', alpha=0.4)\n",
    "plt.scatter(lda_transformed[lda_transformed['y']==1][0], lda_transformed[lda_transformed['y']==1][1], label='1', c='green', alpha=0.4)\n",
    "plt.scatter(lda_transformed[lda_transformed['y']==2][0], lda_transformed[lda_transformed['y']==2][1], label='2', c='red', alpha=0.4)\n",
    "plt.scatter(lda_transformed[lda_transformed['y']==3][0], lda_transformed[lda_transformed['y']==3][1], label='3', c='violet', alpha=0.4)\n",
    "plt.scatter(lda_transformed[lda_transformed['y']==4][0], lda_transformed[lda_transformed['y']==4][1], label='4', c='yellow', alpha=0.4)\n",
    "plt.scatter(lda_transformed[lda_transformed['y']==5][0], lda_transformed[lda_transformed['y']==5][1], label='5', c='magenta', alpha=0.4)\n",
    "plt.scatter(lda_transformed[lda_transformed['y']==6][0], lda_transformed[lda_transformed['y']==6][1], label='6', c='black', alpha=0.4)\n",
    "plt.scatter(lda_transformed[lda_transformed['y']==7][0], lda_transformed[lda_transformed['y']==7][1], label='7', c='orange', alpha=0.4)\n",
    "plt.scatter(lda_transformed[lda_transformed['y']==8][0], lda_transformed[lda_transformed['y']==8][1], label='8', c='indigo', alpha=0.4)\n",
    "plt.scatter(lda_transformed[lda_transformed['y']==9][0], lda_transformed[lda_transformed['y']==9][1], label='9', c='orange', alpha=0.4)\n",
    "\n",
    "plt.legend(loc=2)\n",
    "\n",
    "plt.show()"
   ]
  },
  {
   "cell_type": "code",
   "execution_count": null,
   "metadata": {},
   "outputs": [],
   "source": []
  }
 ],
 "metadata": {
  "kernelspec": {
   "display_name": "Python 3",
   "language": "python",
   "name": "python3"
  },
  "language_info": {
   "codemirror_mode": {
    "name": "ipython",
    "version": 3
   },
   "file_extension": ".py",
   "mimetype": "text/x-python",
   "name": "python",
   "nbconvert_exporter": "python",
   "pygments_lexer": "ipython3",
   "version": "3.5.2"
  }
 },
 "nbformat": 4,
 "nbformat_minor": 2
}
