{
 "cells": [
  {
   "cell_type": "code",
   "execution_count": null,
   "metadata": {},
   "outputs": [],
   "source": [
    "from bs4 import BeautifulSoup\n",
    "from urllib.request import urlopen\n",
    "\n",
    "\n",
    "html_text = urlopen('http://nytimes.com')\n",
    "\n",
    "soup = BeautifulSoup()\n",
    "\n",
    "\n",
    "soup = BeautifulSoup(html_text, 'lxml')\n",
    "\n",
    "## ... and examine soup.find_all('a'), which returns a list of 'a' elements (i.e., HTML links).\n",
    "\n",
    "print(len(soup.find_all('a')))         # Checking the number of links on the page"
   ]
  },
  {
   "cell_type": "code",
   "execution_count": null,
   "metadata": {},
   "outputs": [],
   "source": [
    "urls = [item['href'] for item in soup.find_all('a') if '.html' in item['href']]\n",
    "\n",
    "urls"
   ]
  },
  {
   "cell_type": "code",
   "execution_count": null,
   "metadata": {},
   "outputs": [],
   "source": [
    "!apt-get -y install libxml2-dev libxslt-dev \n",
    "\n",
    "!pip3 install newspaper3k"
   ]
  },
  {
   "cell_type": "code",
   "execution_count": null,
   "metadata": {},
   "outputs": [],
   "source": [
    "import random\n",
    "\n",
    "url = random.choice(links)\n",
    "\n",
    "url"
   ]
  },
  {
   "cell_type": "code",
   "execution_count": null,
   "metadata": {},
   "outputs": [],
   "source": [
    "\n",
    "from newspaper import Article\n",
    "from textblob import TextBlob\n",
    "\n",
    "def url_to_article_text(url):\n",
    "    article = Article(url)\n",
    "    article.download()\n",
    "    article.parse()\n",
    "    article_text = article.text.replace('\\n', ' ')\n",
    "    return article_text"
   ]
  },
  {
   "cell_type": "code",
   "execution_count": null,
   "metadata": {},
   "outputs": [],
   "source": [
    "article2blob(url)"
   ]
  },
  {
   "cell_type": "code",
   "execution_count": null,
   "metadata": {},
   "outputs": [],
   "source": [
    "!mkdir /sharedfolder/nyt_articles_11-9-2017/\n",
    "\n",
    "import os\n",
    "import time\n",
    "\n",
    "os.chdir('/sharedfolder/nyt_articles_11-9-2017/')\n"
   ]
  },
  {
   "cell_type": "code",
   "execution_count": null,
   "metadata": {},
   "outputs": [],
   "source": [
    "for url in urls[10:]:\n",
    "    try:\n",
    "        article_text = url_to_article_text(url)\n",
    "        filename = url.split('/')[-1].split('.html')[0]+'.txt'\n",
    "        with open(filename, 'w') as fo:\n",
    "            fo.write(article_text)\n",
    "        time.sleep(1 + random.random())\n",
    "    except Exception as e:\n",
    "        print('----')\n",
    "        print(url)\n",
    "        print(e)"
   ]
  },
  {
   "cell_type": "code",
   "execution_count": null,
   "metadata": {},
   "outputs": [],
   "source": [
    "os.chdir('/sharedfolder/')\n"
   ]
  },
  {
   "cell_type": "code",
   "execution_count": null,
   "metadata": {},
   "outputs": [],
   "source": [
    "!rm nyt_articles_11-9-2017/.DS_Store\n",
    "!zip -r nyt_articles_11-9-2017.zip nyt_articles_11-9-2017/"
   ]
  },
  {
   "cell_type": "code",
   "execution_count": null,
   "metadata": {},
   "outputs": [],
   "source": []
  }
 ],
 "metadata": {
  "kernelspec": {
   "display_name": "Python 3",
   "language": "python",
   "name": "python3"
  },
  "language_info": {
   "codemirror_mode": {
    "name": "ipython",
    "version": 3
   },
   "file_extension": ".py",
   "mimetype": "text/x-python",
   "name": "python",
   "nbconvert_exporter": "python",
   "pygments_lexer": "ipython3",
   "version": "3.5.2"
  }
 },
 "nbformat": 4,
 "nbformat_minor": 2
}
